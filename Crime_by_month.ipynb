{
 "cells": [
  {
   "cell_type": "code",
   "execution_count": 34,
   "metadata": {},
   "outputs": [],
   "source": [
    "import pandas as pd\n",
    "# import geopandas as gpd\n",
    "# import descartes\n",
    "# from shapely.geometry import Point, Polygon\n",
    "import re\n",
    "import matplotlib.pyplot as plt\n",
    "%matplotlib inline\n",
    "import seaborn as sns"
   ]
  },
  {
   "cell_type": "code",
   "execution_count": 2,
   "metadata": {},
   "outputs": [],
   "source": [
    "df = pd.read_csv(\"http://cluster.earlham.edu/~apc0013/Chicago_crime.csv\")"
   ]
  },
  {
   "cell_type": "code",
   "execution_count": 3,
   "metadata": {},
   "outputs": [
    {
     "data": {
      "text/html": [
       "<div>\n",
       "<style scoped>\n",
       "    .dataframe tbody tr th:only-of-type {\n",
       "        vertical-align: middle;\n",
       "    }\n",
       "\n",
       "    .dataframe tbody tr th {\n",
       "        vertical-align: top;\n",
       "    }\n",
       "\n",
       "    .dataframe thead th {\n",
       "        text-align: right;\n",
       "    }\n",
       "</style>\n",
       "<table border=\"1\" class=\"dataframe\">\n",
       "  <thead>\n",
       "    <tr style=\"text-align: right;\">\n",
       "      <th></th>\n",
       "      <th>ID</th>\n",
       "      <th>Case Number</th>\n",
       "      <th>Date</th>\n",
       "      <th>Block</th>\n",
       "      <th>IUCR</th>\n",
       "      <th>Primary Type</th>\n",
       "      <th>Description</th>\n",
       "      <th>Location Description</th>\n",
       "      <th>Arrest</th>\n",
       "      <th>Domestic</th>\n",
       "      <th>Beat</th>\n",
       "      <th>District</th>\n",
       "      <th>Ward</th>\n",
       "      <th>Community Area</th>\n",
       "      <th>FBI Code</th>\n",
       "      <th>X Coordinate</th>\n",
       "      <th>Y Coordinate</th>\n",
       "      <th>Year</th>\n",
       "      <th>Updated On</th>\n",
       "      <th>Latitude</th>\n",
       "      <th>Longitude</th>\n",
       "      <th>Location</th>\n",
       "    </tr>\n",
       "  </thead>\n",
       "  <tbody>\n",
       "    <tr>\n",
       "      <th>0</th>\n",
       "      <td>2746413</td>\n",
       "      <td>HJ384532</td>\n",
       "      <td>05/20/2003 08:00:00 PM</td>\n",
       "      <td>072XX S FAIRFIELD AVE</td>\n",
       "      <td>0610</td>\n",
       "      <td>BURGLARY</td>\n",
       "      <td>FORCIBLE ENTRY</td>\n",
       "      <td>RESIDENCE</td>\n",
       "      <td>False</td>\n",
       "      <td>False</td>\n",
       "      <td>831</td>\n",
       "      <td>8.0</td>\n",
       "      <td>18.0</td>\n",
       "      <td>66.0</td>\n",
       "      <td>05</td>\n",
       "      <td>1159293.0</td>\n",
       "      <td>1856544.0</td>\n",
       "      <td>2003</td>\n",
       "      <td>02/28/2018 03:56:25 PM</td>\n",
       "      <td>41.762076</td>\n",
       "      <td>-87.691736</td>\n",
       "      <td>(41.762075613, -87.691735556)</td>\n",
       "    </tr>\n",
       "    <tr>\n",
       "      <th>1</th>\n",
       "      <td>2746414</td>\n",
       "      <td>HJ385055</td>\n",
       "      <td>05/24/2003 09:25:00 PM</td>\n",
       "      <td>015XX W ROOSEVELT RD</td>\n",
       "      <td>0420</td>\n",
       "      <td>BATTERY</td>\n",
       "      <td>AGGRAVATED:KNIFE/CUTTING INSTR</td>\n",
       "      <td>SIDEWALK</td>\n",
       "      <td>False</td>\n",
       "      <td>False</td>\n",
       "      <td>1231</td>\n",
       "      <td>12.0</td>\n",
       "      <td>2.0</td>\n",
       "      <td>28.0</td>\n",
       "      <td>04B</td>\n",
       "      <td>1166352.0</td>\n",
       "      <td>1894784.0</td>\n",
       "      <td>2003</td>\n",
       "      <td>02/28/2018 03:56:25 PM</td>\n",
       "      <td>41.866863</td>\n",
       "      <td>-87.664773</td>\n",
       "      <td>(41.866863003, -87.664772948)</td>\n",
       "    </tr>\n",
       "  </tbody>\n",
       "</table>\n",
       "</div>"
      ],
      "text/plain": [
       "        ID Case Number                    Date                  Block  IUCR  \\\n",
       "0  2746413    HJ384532  05/20/2003 08:00:00 PM  072XX S FAIRFIELD AVE  0610   \n",
       "1  2746414    HJ385055  05/24/2003 09:25:00 PM   015XX W ROOSEVELT RD  0420   \n",
       "\n",
       "  Primary Type                     Description Location Description  Arrest  \\\n",
       "0     BURGLARY                  FORCIBLE ENTRY            RESIDENCE   False   \n",
       "1      BATTERY  AGGRAVATED:KNIFE/CUTTING INSTR             SIDEWALK   False   \n",
       "\n",
       "   Domestic  Beat  District  Ward  Community Area FBI Code  X Coordinate  \\\n",
       "0     False   831       8.0  18.0            66.0       05     1159293.0   \n",
       "1     False  1231      12.0   2.0            28.0      04B     1166352.0   \n",
       "\n",
       "   Y Coordinate  Year              Updated On   Latitude  Longitude  \\\n",
       "0     1856544.0  2003  02/28/2018 03:56:25 PM  41.762076 -87.691736   \n",
       "1     1894784.0  2003  02/28/2018 03:56:25 PM  41.866863 -87.664773   \n",
       "\n",
       "                        Location  \n",
       "0  (41.762075613, -87.691735556)  \n",
       "1  (41.866863003, -87.664772948)  "
      ]
     },
     "execution_count": 3,
     "metadata": {},
     "output_type": "execute_result"
    }
   ],
   "source": [
    "pd.set_option('display.max_columns', 500)\n",
    "df.head(2)"
   ]
  },
  {
   "cell_type": "code",
   "execution_count": 26,
   "metadata": {},
   "outputs": [],
   "source": [
    "month_crime = df[['Date', 'Primary Type', 'Year']]"
   ]
  },
  {
   "cell_type": "code",
   "execution_count": 27,
   "metadata": {
    "collapsed": true
   },
   "outputs": [
    {
     "name": "stderr",
     "output_type": "stream",
     "text": [
      "/mnt/lovelace/software/anaconda/lib/python3.6/site-packages/ipykernel_launcher.py:1: SettingWithCopyWarning: \n",
      "A value is trying to be set on a copy of a slice from a DataFrame.\n",
      "Try using .loc[row_indexer,col_indexer] = value instead\n",
      "\n",
      "See the caveats in the documentation: http://pandas.pydata.org/pandas-docs/stable/indexing.html#indexing-view-versus-copy\n",
      "  \"\"\"Entry point for launching an IPython kernel.\n"
     ]
    }
   ],
   "source": [
    "month_crime['Month'] = month_crime['Date'].str.slice(0, 2)"
   ]
  },
  {
   "cell_type": "code",
   "execution_count": 32,
   "metadata": {
    "collapsed": true
   },
   "outputs": [
    {
     "name": "stderr",
     "output_type": "stream",
     "text": [
      "/mnt/lovelace/software/anaconda/lib/python3.6/site-packages/ipykernel_launcher.py:1: SettingWithCopyWarning: \n",
      "A value is trying to be set on a copy of a slice from a DataFrame\n",
      "\n",
      "See the caveats in the documentation: http://pandas.pydata.org/pandas-docs/stable/indexing.html#indexing-view-versus-copy\n",
      "  \"\"\"Entry point for launching an IPython kernel.\n"
     ]
    }
   ],
   "source": [
    "month_crime.sort_values(by='Year', inplace = True)"
   ]
  },
  {
   "cell_type": "code",
   "execution_count": 24,
   "metadata": {
    "collapsed": true
   },
   "outputs": [
    {
     "name": "stderr",
     "output_type": "stream",
     "text": [
      "/mnt/lovelace/software/anaconda/lib/python3.6/site-packages/pandas/core/generic.py:5821: SettingWithCopyWarning: \n",
      "A value is trying to be set on a copy of a slice from a DataFrame.\n",
      "Try using .loc[row_indexer,col_indexer] = value instead\n",
      "\n",
      "See the caveats in the documentation: http://pandas.pydata.org/pandas-docs/stable/indexing.html#indexing-view-versus-copy\n",
      "  regex=regex)\n"
     ]
    }
   ],
   "source": [
    "# month_crime.replace({'Month': {'01': 'Jan', \n",
    "#                                   '02': 'Feb', \n",
    "#                                   '03': 'Mar', \n",
    "#                                   '04': 'Apr', \n",
    "#                                   '05': 'May', \n",
    "#                                   '06': 'Jun', \n",
    "#                                   '07': 'Jul', \n",
    "#                                   '08': 'Aug', \n",
    "#                                   '09': 'Sep', \n",
    "#                                   '10': 'Oct', \n",
    "#                                   '11': 'Nov', \n",
    "#                                   '12':'Dec'}}, inplace=True)"
   ]
  },
  {
   "cell_type": "code",
   "execution_count": 51,
   "metadata": {
    "collapsed": true
   },
   "outputs": [
    {
     "data": {
      "text/plain": [
       "array(['ASSAULT', 'DECEPTIVE PRACTICE', 'CRIMINAL TRESPASS', 'NARCOTICS',\n",
       "       'THEFT', 'OTHER OFFENSE', 'BATTERY', 'MOTOR VEHICLE THEFT',\n",
       "       'WEAPONS VIOLATION', 'LIQUOR LAW VIOLATION', 'CRIMINAL DAMAGE',\n",
       "       'PROSTITUTION', 'ROBBERY', 'BURGLARY', 'ARSON', 'KIDNAPPING',\n",
       "       'SEX OFFENSE', 'INTIMIDATION', 'OFFENSE INVOLVING CHILDREN',\n",
       "       'PUBLIC PEACE VIOLATION', 'STALKING', 'GAMBLING',\n",
       "       'CRIM SEXUAL ASSAULT', 'INTERFERENCE WITH PUBLIC OFFICER',\n",
       "       'RITUALISM', 'OTHER NARCOTIC VIOLATION', 'OBSCENITY',\n",
       "       'PUBLIC INDECENCY', 'HOMICIDE', 'DOMESTIC VIOLENCE',\n",
       "       'NON-CRIMINAL', 'HUMAN TRAFFICKING',\n",
       "       'NON-CRIMINAL (SUBJECT SPECIFIED)', 'NON - CRIMINAL',\n",
       "       'CONCEALED CARRY LICENSE VIOLATION'], dtype=object)"
      ]
     },
     "execution_count": 51,
     "metadata": {},
     "output_type": "execute_result"
    }
   ],
   "source": [
    "month_crime[\"Primary Type\"].unique()"
   ]
  },
  {
   "cell_type": "code",
   "execution_count": 65,
   "metadata": {},
   "outputs": [
    {
     "data": {
      "image/png": "[encoded data removed]",
      "text/plain": [
       "<Figure size 648x360 with 1 Axes>"
      ]
     },
     "metadata": {},
     "output_type": "display_data"
    }
   ],
   "source": [
    "fig = plt.figure(figsize = (9, 5)) \n",
    "ax = fig.gca()\n",
    "\n",
    "def plot_crime(t, y):\n",
    "    ax.set_title(\"Number of \" + t + \" cases per month in year \" + str(y))\n",
    "    ax.set_ylabel(\"Number of cases\")\n",
    "    plt_data = month_crime.loc[(month_crime['Year'] == y) & (month_crime['Primary Type'] == t)]\n",
    "    plt_data.groupby(['Month'])['Primary Type'].count().plot(kind =\"bar\", color = 'gray', ax = ax)\n",
    "\n",
    "    \n",
    "plot_crime(\"ASSAULT\", 2014)\n",
    "\n"
   ]
  },
  {
   "cell_type": "code",
   "execution_count": 58,
   "metadata": {},
   "outputs": [],
   "source": [
    "# plt_data = month_crime.loc[(month_crime['Year'] == 2003) & (month_crime['Primary Type'] == 'BURGLARY')]\n",
    "# tmp = plt_data.groupby('Month')['Primary Type'].count()"
   ]
  }
 ],
 "metadata": {
  "kernelspec": {
   "display_name": "Python 3",
   "language": "python",
   "name": "python3"
  },
  "language_info": {
   "codemirror_mode": {
    "name": "ipython",
    "version": 3
   },
   "file_extension": ".py",
   "mimetype": "text/x-python",
   "name": "python",
   "nbconvert_exporter": "python",
   "pygments_lexer": "ipython3",
   "version": "3.6.5"
  }
 },
 "nbformat": 4,
 "nbformat_minor": 2
}
