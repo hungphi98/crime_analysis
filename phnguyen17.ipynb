{
 "cells": [
  {
   "cell_type": "code",
   "execution_count": 1,
   "metadata": {},
   "outputs": [],
   "source": [
    "import pandas as pd\n",
    "import matplotlib.pyplot as plt\n",
    "%matplotlib inline"
   ]
  },
  {
   "cell_type": "code",
   "execution_count": 2,
   "metadata": {},
   "outputs": [],
   "source": [
    "df = pd.read_csv(\"http://cluster.earlham.edu/~apc0013/Chicago_crime.csv\")"
   ]
  },
  {
   "cell_type": "code",
   "execution_count": 3,
   "metadata": {
    "scrolled": true
   },
   "outputs": [
    {
     "data": {
      "text/html": [
       "<div>\n",
       "<style scoped>\n",
       "    .dataframe tbody tr th:only-of-type {\n",
       "        vertical-align: middle;\n",
       "    }\n",
       "\n",
       "    .dataframe tbody tr th {\n",
       "        vertical-align: top;\n",
       "    }\n",
       "\n",
       "    .dataframe thead th {\n",
       "        text-align: right;\n",
       "    }\n",
       "</style>\n",
       "<table border=\"1\" class=\"dataframe\">\n",
       "  <thead>\n",
       "    <tr style=\"text-align: right;\">\n",
       "      <th></th>\n",
       "      <th>ID</th>\n",
       "      <th>Case Number</th>\n",
       "      <th>Date</th>\n",
       "      <th>Block</th>\n",
       "      <th>IUCR</th>\n",
       "      <th>Primary Type</th>\n",
       "      <th>Description</th>\n",
       "      <th>Location Description</th>\n",
       "      <th>Arrest</th>\n",
       "      <th>Domestic</th>\n",
       "      <th>...</th>\n",
       "      <th>Ward</th>\n",
       "      <th>Community Area</th>\n",
       "      <th>FBI Code</th>\n",
       "      <th>X Coordinate</th>\n",
       "      <th>Y Coordinate</th>\n",
       "      <th>Year</th>\n",
       "      <th>Updated On</th>\n",
       "      <th>Latitude</th>\n",
       "      <th>Longitude</th>\n",
       "      <th>Location</th>\n",
       "    </tr>\n",
       "  </thead>\n",
       "  <tbody>\n",
       "    <tr>\n",
       "      <th>0</th>\n",
       "      <td>2746413</td>\n",
       "      <td>HJ384532</td>\n",
       "      <td>05/20/2003 08:00:00 PM</td>\n",
       "      <td>072XX S FAIRFIELD AVE</td>\n",
       "      <td>0610</td>\n",
       "      <td>BURGLARY</td>\n",
       "      <td>FORCIBLE ENTRY</td>\n",
       "      <td>RESIDENCE</td>\n",
       "      <td>False</td>\n",
       "      <td>False</td>\n",
       "      <td>...</td>\n",
       "      <td>18.0</td>\n",
       "      <td>66.0</td>\n",
       "      <td>05</td>\n",
       "      <td>1159293.0</td>\n",
       "      <td>1856544.0</td>\n",
       "      <td>2003</td>\n",
       "      <td>02/28/2018 03:56:25 PM</td>\n",
       "      <td>41.762076</td>\n",
       "      <td>-87.691736</td>\n",
       "      <td>(41.762075613, -87.691735556)</td>\n",
       "    </tr>\n",
       "    <tr>\n",
       "      <th>1</th>\n",
       "      <td>2746414</td>\n",
       "      <td>HJ385055</td>\n",
       "      <td>05/24/2003 09:25:00 PM</td>\n",
       "      <td>015XX W ROOSEVELT RD</td>\n",
       "      <td>0420</td>\n",
       "      <td>BATTERY</td>\n",
       "      <td>AGGRAVATED:KNIFE/CUTTING INSTR</td>\n",
       "      <td>SIDEWALK</td>\n",
       "      <td>False</td>\n",
       "      <td>False</td>\n",
       "      <td>...</td>\n",
       "      <td>2.0</td>\n",
       "      <td>28.0</td>\n",
       "      <td>04B</td>\n",
       "      <td>1166352.0</td>\n",
       "      <td>1894784.0</td>\n",
       "      <td>2003</td>\n",
       "      <td>02/28/2018 03:56:25 PM</td>\n",
       "      <td>41.866863</td>\n",
       "      <td>-87.664773</td>\n",
       "      <td>(41.866863003, -87.664772948)</td>\n",
       "    </tr>\n",
       "    <tr>\n",
       "      <th>2</th>\n",
       "      <td>2746415</td>\n",
       "      <td>HJ384304</td>\n",
       "      <td>05/24/2003 01:10:00 PM</td>\n",
       "      <td>062XX S CLAREMONT AVE</td>\n",
       "      <td>031A</td>\n",
       "      <td>ROBBERY</td>\n",
       "      <td>ARMED: HANDGUN</td>\n",
       "      <td>STREET</td>\n",
       "      <td>False</td>\n",
       "      <td>False</td>\n",
       "      <td>...</td>\n",
       "      <td>15.0</td>\n",
       "      <td>66.0</td>\n",
       "      <td>03</td>\n",
       "      <td>1161795.0</td>\n",
       "      <td>1863307.0</td>\n",
       "      <td>2003</td>\n",
       "      <td>02/28/2018 03:56:25 PM</td>\n",
       "      <td>41.780583</td>\n",
       "      <td>-87.682378</td>\n",
       "      <td>(41.78058266, -87.682377751)</td>\n",
       "    </tr>\n",
       "    <tr>\n",
       "      <th>3</th>\n",
       "      <td>2746416</td>\n",
       "      <td>HJ384255</td>\n",
       "      <td>05/24/2003 02:00:00 PM</td>\n",
       "      <td>031XX N CLARK ST</td>\n",
       "      <td>0860</td>\n",
       "      <td>THEFT</td>\n",
       "      <td>RETAIL THEFT</td>\n",
       "      <td>SMALL RETAIL STORE</td>\n",
       "      <td>True</td>\n",
       "      <td>False</td>\n",
       "      <td>...</td>\n",
       "      <td>44.0</td>\n",
       "      <td>6.0</td>\n",
       "      <td>06</td>\n",
       "      <td>1170274.0</td>\n",
       "      <td>1920971.0</td>\n",
       "      <td>2003</td>\n",
       "      <td>02/28/2018 03:56:25 PM</td>\n",
       "      <td>41.938637</td>\n",
       "      <td>-87.649609</td>\n",
       "      <td>(41.938636968, -87.64960867)</td>\n",
       "    </tr>\n",
       "    <tr>\n",
       "      <th>4</th>\n",
       "      <td>2746418</td>\n",
       "      <td>HJ385442</td>\n",
       "      <td>05/25/2003 02:22:00 AM</td>\n",
       "      <td>031XX N BROADWAY</td>\n",
       "      <td>0810</td>\n",
       "      <td>THEFT</td>\n",
       "      <td>OVER $500</td>\n",
       "      <td>STREET</td>\n",
       "      <td>False</td>\n",
       "      <td>False</td>\n",
       "      <td>...</td>\n",
       "      <td>44.0</td>\n",
       "      <td>6.0</td>\n",
       "      <td>06</td>\n",
       "      <td>1171708.0</td>\n",
       "      <td>1920869.0</td>\n",
       "      <td>2003</td>\n",
       "      <td>02/28/2018 03:56:25 PM</td>\n",
       "      <td>41.938326</td>\n",
       "      <td>-87.644341</td>\n",
       "      <td>(41.938325571, -87.644341433)</td>\n",
       "    </tr>\n",
       "  </tbody>\n",
       "</table>\n",
       "<p>5 rows × 22 columns</p>\n",
       "</div>"
      ],
      "text/plain": [
       "        ID Case Number                    Date                  Block  IUCR  \\\n",
       "0  2746413    HJ384532  05/20/2003 08:00:00 PM  072XX S FAIRFIELD AVE  0610   \n",
       "1  2746414    HJ385055  05/24/2003 09:25:00 PM   015XX W ROOSEVELT RD  0420   \n",
       "2  2746415    HJ384304  05/24/2003 01:10:00 PM  062XX S CLAREMONT AVE  031A   \n",
       "3  2746416    HJ384255  05/24/2003 02:00:00 PM       031XX N CLARK ST  0860   \n",
       "4  2746418    HJ385442  05/25/2003 02:22:00 AM       031XX N BROADWAY  0810   \n",
       "\n",
       "  Primary Type                     Description Location Description  Arrest  \\\n",
       "0     BURGLARY                  FORCIBLE ENTRY            RESIDENCE   False   \n",
       "1      BATTERY  AGGRAVATED:KNIFE/CUTTING INSTR             SIDEWALK   False   \n",
       "2      ROBBERY                  ARMED: HANDGUN               STREET   False   \n",
       "3        THEFT                    RETAIL THEFT   SMALL RETAIL STORE    True   \n",
       "4        THEFT                       OVER $500               STREET   False   \n",
       "\n",
       "   Domestic              ...                Ward  Community Area  FBI Code  \\\n",
       "0     False              ...                18.0            66.0        05   \n",
       "1     False              ...                 2.0            28.0       04B   \n",
       "2     False              ...                15.0            66.0        03   \n",
       "3     False              ...                44.0             6.0        06   \n",
       "4     False              ...                44.0             6.0        06   \n",
       "\n",
       "   X Coordinate Y Coordinate  Year              Updated On   Latitude  \\\n",
       "0     1159293.0    1856544.0  2003  02/28/2018 03:56:25 PM  41.762076   \n",
       "1     1166352.0    1894784.0  2003  02/28/2018 03:56:25 PM  41.866863   \n",
       "2     1161795.0    1863307.0  2003  02/28/2018 03:56:25 PM  41.780583   \n",
       "3     1170274.0    1920971.0  2003  02/28/2018 03:56:25 PM  41.938637   \n",
       "4     1171708.0    1920869.0  2003  02/28/2018 03:56:25 PM  41.938326   \n",
       "\n",
       "   Longitude                       Location  \n",
       "0 -87.691736  (41.762075613, -87.691735556)  \n",
       "1 -87.664773  (41.866863003, -87.664772948)  \n",
       "2 -87.682378   (41.78058266, -87.682377751)  \n",
       "3 -87.649609   (41.938636968, -87.64960867)  \n",
       "4 -87.644341  (41.938325571, -87.644341433)  \n",
       "\n",
       "[5 rows x 22 columns]"
      ]
     },
     "execution_count": 3,
     "metadata": {},
     "output_type": "execute_result"
    }
   ],
   "source": [
    "df.head()"
   ]
  },
  {
   "cell_type": "code",
   "execution_count": 4,
   "metadata": {},
   "outputs": [
    {
     "data": {
      "text/plain": [
       "Index(['ID', 'Case Number', 'Date', 'Block', 'IUCR', 'Primary Type',\n",
       "       'Description', 'Location Description', 'Arrest', 'Domestic', 'Beat',\n",
       "       'District', 'Ward', 'Community Area', 'FBI Code', 'X Coordinate',\n",
       "       'Y Coordinate', 'Year', 'Updated On', 'Latitude', 'Longitude',\n",
       "       'Location'],\n",
       "      dtype='object')"
      ]
     },
     "execution_count": 4,
     "metadata": {},
     "output_type": "execute_result"
    }
   ],
   "source": [
    "df.columns"
   ]
  },
  {
   "cell_type": "code",
   "execution_count": 6,
   "metadata": {},
   "outputs": [],
   "source": [
    "labels = [\"THEFT\", \"BATTERY\",\"CRIMINAL DAMAGE\",\"ASSAULT\", \"DECEPTIVE PRACTICE\"]\n",
    "df = df[df[\"Primary Type\"].isin(labels)]"
   ]
  },
  {
   "cell_type": "code",
   "execution_count": 7,
   "metadata": {},
   "outputs": [],
   "source": [
    "df[\"Date\"] = pd.to_datetime(df[\"Date\"])"
   ]
  },
  {
   "cell_type": "code",
   "execution_count": 11,
   "metadata": {},
   "outputs": [
    {
     "data": {
      "text/plain": [
       "(4162390, 22)"
      ]
     },
     "execution_count": 11,
     "metadata": {},
     "output_type": "execute_result"
    }
   ],
   "source": [
    "df.shape"
   ]
  },
  {
   "cell_type": "code",
   "execution_count": 12,
   "metadata": {},
   "outputs": [],
   "source": [
    "data = df[df[\"Date\"] > pd.to_datetime(\"12/31/2017\")]"
   ]
  },
  {
   "cell_type": "code",
   "execution_count": 13,
   "metadata": {},
   "outputs": [
    {
     "name": "stderr",
     "output_type": "stream",
     "text": [
      "/mnt/lovelace/software/anaconda/lib/python3.6/site-packages/ipykernel_launcher.py:1: SettingWithCopyWarning: \n",
      "A value is trying to be set on a copy of a slice from a DataFrame.\n",
      "Try using .loc[row_indexer,col_indexer] = value instead\n",
      "\n",
      "See the caveats in the documentation: http://pandas.pydata.org/pandas-docs/stable/indexing.html#indexing-view-versus-copy\n",
      "  \"\"\"Entry point for launching an IPython kernel.\n"
     ]
    }
   ],
   "source": [
    "data[\"hour\"] = data[\"Date\"].apply(lambda x: x.hour)"
   ]
  },
  {
   "cell_type": "code",
   "execution_count": 14,
   "metadata": {},
   "outputs": [
    {
     "data": {
      "text/plain": [
       "<matplotlib.axes._subplots.AxesSubplot at 0x7fea83b076a0>"
      ]
     },
     "execution_count": 14,
     "metadata": {},
     "output_type": "execute_result"
    },
    {
     "data": {
      "image/png": "[encoded data removed]",
      "text/plain": [
       "<Figure size 1152x504 with 1 Axes>"
      ]
     },
     "metadata": {},
     "output_type": "display_data"
    }
   ],
   "source": [
    "fig, ax = plt.subplots(figsize=(16,7))\n",
    "data.groupby(\"hour\").count()[\"Arrest\"].plot(kind=\"bar\", ax = ax)"
   ]
  },
  {
   "cell_type": "code",
   "execution_count": 15,
   "metadata": {},
   "outputs": [
    {
     "data": {
      "text/plain": [
       "<matplotlib.axes._subplots.AxesSubplot at 0x7fea839ccba8>"
      ]
     },
     "execution_count": 15,
     "metadata": {},
     "output_type": "execute_result"
    },
    {
     "data": {
      "image/png": "[encoded data removed]",
      "text/plain": [
       "<Figure size 432x288 with 1 Axes>"
      ]
     },
     "metadata": {},
     "output_type": "display_data"
    }
   ],
   "source": [
    "data.groupby(\"Primary Type\").count()[\"Arrest\"].sort_values(ascending = False).head(12).plot(kind=\"bar\")"
   ]
  },
  {
   "cell_type": "code",
   "execution_count": null,
   "metadata": {},
   "outputs": [],
   "source": [
    "data.groupby(\"Primary Type\").count()[\"Arrest\"].sort_values(ascending = False)"
   ]
  },
  {
   "cell_type": "code",
   "execution_count": null,
   "metadata": {},
   "outputs": [],
   "source": [
    "fig, ax = plt.subplots(figsize=(16,7))\n",
    "\n",
    "data.groupby([\"hour\", \"Primary Type\"]).count()[\"Arrest\"].unstack('Primary Type').plot(kind = \"bar\", stacked = True, ax = ax)\n",
    "\n"
   ]
  },
  {
   "cell_type": "code",
   "execution_count": null,
   "metadata": {},
   "outputs": [],
   "source": [
    "\n",
    "\n"
   ]
  }
 ],
 "metadata": {
  "kernelspec": {
   "display_name": "Python 3",
   "language": "python",
   "name": "python3"
  },
  "language_info": {
   "codemirror_mode": {
    "name": "ipython",
    "version": 3
   },
   "file_extension": ".py",
   "mimetype": "text/x-python",
   "name": "python",
   "nbconvert_exporter": "python",
   "pygments_lexer": "ipython3",
   "version": "3.6.5"
  }
 },
 "nbformat": 4,
 "nbformat_minor": 2
}
